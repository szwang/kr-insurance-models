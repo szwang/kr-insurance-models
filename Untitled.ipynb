{
 "cells": [
  {
   "cell_type": "raw",
   "metadata": {},
   "source": [
    "\n",
    "\n",
    "Literature Review\n",
    "\n",
    "Like Fink and Pringle, we do not incorporate government as a player\n",
    "\n",
    "\n",
    "The model\n",
    "\n",
    "We model kidnapping as a two person game between the insurer and the firm, who purchases insurance for its employees. At the first stage, the insurer competes in a perfectly competitive market and price their premium, which also set their level of service through negotiation. The firm decides whether or not to purchase insurance and at what level. Then there are two moves by nature: a firm's employee is kidnapped with probability $p$, and if kidnapped, killed with probability $q$[Q: can q be both a function of N and nature?]. (Figure 1)\n",
    "\n",
    "[insert sketch of schematic model]\n",
    "\n",
    "The insurer's premium $P$ is a function of  $p$ and $R$: the probability of being kidnapped and the ransom level. The ransom $R$, paid out by insurers to kidnappers, is a function of how much they themselves negotiate, as well as the average level of negotiation: [TODO: insert footnote to elaborate on this] $N$ is the level of negotiation, which represents the effort and resources the insurer is willing to put into extracting a hostage, and $\\overline{N}$ is the environmental level of negotiation, which represents the average amount insurers negotiate.[Q: is it insurers or is consultants better here?] At the time of pricing their premium, insurance companies decide on a set level of negotiation $N$, which in turn decide their premium $P(p, R(N, \\overline{N}))$.\n",
    "\n",
    "The firm begins with initial wealth $W$, and pays the premium $P$ when purchasing insurance. In the case of death, there is an additional cost $D$. In the case of kidnapping, the firm suffers a cost $K$. The firm's employee also faces a probability of death $q$, which is a function of how hard the insurer negotiates $N$.\n",
    "\n",
    "We construct a von Neumann Morgenstern function to show the firm's expected utility in this game given the 3 possibile outcomes /em not kidnapped, kidnapped and freed, and kidnapped and killed:\n",
    "\n",
    "\\begin{align*}\n",
    "EU_{firm} = (1-p)*U(W-P) + p*(1-q)*U(W-P-K) + p*q*U(W-P-D)\n",
    "\\end{align*}\n",
    "\n",
    "\n",
    "\\subsection{Assumptions}\n",
    "\n",
    "\n",
    "\n",
    "\n",
    "\n",
    "\n",
    "\n"
   ]
  }
 ],
 "metadata": {
  "kernelspec": {
   "display_name": "Python 2",
   "language": "python",
   "name": "python2"
  },
  "language_info": {
   "codemirror_mode": {
    "name": "ipython",
    "version": 2
   },
   "file_extension": ".py",
   "mimetype": "text/x-python",
   "name": "python",
   "nbconvert_exporter": "python",
   "pygments_lexer": "ipython2",
   "version": "2.7.10"
  }
 },
 "nbformat": 4,
 "nbformat_minor": 2
}
