{
 "cells": [
  {
   "cell_type": "code",
   "execution_count": 31,
   "metadata": {
    "collapsed": true
   },
   "outputs": [],
   "source": [
    "import plotly"
   ]
  },
  {
   "cell_type": "code",
   "execution_count": 32,
   "metadata": {
    "collapsed": true
   },
   "outputs": [],
   "source": [
    "import numpy as np\n",
    "from scipy import optimize\n",
    "import math\n",
    "import matplotlib.pyplot as plt"
   ]
  },
  {
   "cell_type": "code",
   "execution_count": 33,
   "metadata": {
    "collapsed": true
   },
   "outputs": [],
   "source": [
    "# utility function\n",
    "def utility(x):\n",
    "    return np.sqrt(x)\n",
    "\n",
    "# have grid of n bars, and find max N\n",
    "# def N_bar(N):\n",
    "#     print('Nbar')\n",
    "#     return 300 + N/300\n",
    "\n",
    "# take n_bar as fixed\n",
    "# how do n and nbar interact?\n",
    "# finding where n=nbar such that the n that it induces is consistent with that n_bar\n",
    "# firms are setting prices, induces some in\n",
    "\n",
    "# ransom, R\n",
    "def ransom(N, N_bar):\n",
    "    return 10000/(N_bar+1) + 2000/(N+1) - 2000\n",
    "\n",
    "# insurance premium, P\n",
    "def premium(p, R):\n",
    "    return p*R\n",
    "\n",
    "# probability of death, q\n",
    "def p_death(N):\n",
    "    return N / (100+N)"
   ]
  },
  {
   "cell_type": "code",
   "execution_count": 34,
   "metadata": {
    "collapsed": true
   },
   "outputs": [],
   "source": [
    "def expected_utility(p, W, D, K, N, N_bar):\n",
    "    P = premium(p, ransom(N, N_bar))\n",
    "    return (1-p)*utility(W-P) + \\\n",
    "            p*p_death(N)*utility(W-P-D) + \\\n",
    "            p*(1-p_death(N))*utility(W-P-K)"
   ]
  },
  {
   "cell_type": "code",
   "execution_count": 35,
   "metadata": {
    "collapsed": true
   },
   "outputs": [],
   "source": [
    "# function of N\n",
    "def U(N, N_bar):\n",
    "    return expected_utility(p, W, D, K, N, N_bar)"
   ]
  },
  {
   "cell_type": "code",
   "execution_count": 36,
   "metadata": {
    "collapsed": true
   },
   "outputs": [],
   "source": [
    "# setting exogenous variables\n",
    "p = .05\n",
    "W = 10000\n",
    "D = 9000\n",
    "K = 3000\n",
    "N_bar = 50"
   ]
  },
  {
   "cell_type": "code",
   "execution_count": 70,
   "metadata": {
    "collapsed": false
   },
   "outputs": [
    {
     "name": "stderr",
     "output_type": "stream",
     "text": [
      "/usr/local/lib/python2.7/site-packages/ipykernel/__main__.py:18: VisibleDeprecationWarning:\n",
      "\n",
      "using a non-integer number instead of an integer will result in an error in the future\n",
      "\n"
     ]
    },
    {
     "name": "stdout",
     "output_type": "stream",
     "text": [
      "500\n"
     ]
    }
   ],
   "source": [
    "# 3d matrix\n",
    "n = 500\n",
    "xs = [i for i in range(n) for _ in range(n)]\n",
    "ys = range(n) * n\n",
    "zs = [U(x, y) for x,y in zip(xs,ys)]\n",
    "\n",
    "stack = np.dstack([xs, ys, zs])\n",
    "\n",
    "def create_final(stacked):\n",
    "    final_array = np.empty([500,500])\n",
    "    for coord in stacked:\n",
    "        final_array[coord[0]][coord[1]] = coord[2]\n",
    "    return final_array\n",
    "\n",
    "matrix = create_final(stack[0])\n"
   ]
  },
  {
   "cell_type": "code",
   "execution_count": 89,
   "metadata": {
    "collapsed": false
   },
   "outputs": [
    {
     "data": {
      "text/html": [
       "<iframe id=\"igraph\" scrolling=\"no\" style=\"border:none;\" seamless=\"seamless\" src=\"https://plot.ly/~suzanneswang/17.embed\" height=\"525px\" width=\"100%\"></iframe>"
      ],
      "text/plain": [
       "<plotly.tools.PlotlyDisplay object>"
      ]
     },
     "execution_count": 89,
     "metadata": {},
     "output_type": "execute_result"
    }
   ],
   "source": [
    "import plotly.plotly as py\n",
    "from plotly.graph_objs import Surface\n",
    "import plotly.graph_objs as go\n",
    "\n",
    "py.iplot([dict(z=matrix, type='surface')])"
   ]
  },
  {
   "cell_type": "code",
   "execution_count": 104,
   "metadata": {
    "collapsed": false,
    "scrolled": false
   },
   "outputs": [],
   "source": [
    "# range_500 = np.arange(0,500,1)\n",
    "# zeros_500 = np.full(500, 96)\n",
    "\n",
    "optimum = go.Scatter3d(\n",
    "    x=range_500,\n",
    "    y=range_500,\n",
    "    z=zeros_500,\n",
    "    mode='markers',\n",
    "    marker=dict(\n",
    "        size=5,\n",
    "        line=dict(\n",
    "            color='rgba(217, 217, 217, 0.14)',\n",
    "            width=0.5\n",
    "        ),\n",
    "        opacity=0.8\n",
    "    )\n",
    ")\n",
    "\n",
    "# # optimum_line = np.dstack([range_500, range_500, zeroes_500])\n",
    "\n",
    "# data = [optimum]\n",
    "# # layout = go.Layout(\n",
    "# #     margin=dict(\n",
    "# #         l=0,\n",
    "# #         r=0,\n",
    "# #         b=0,\n",
    "# #         t=0\n",
    "# #     )\n",
    "# # )\n",
    "# fig = go.Figure(data=data)\n",
    "# py.iplot([dict(z=matrix, type='surface'), fig])"
   ]
  },
  {
   "cell_type": "code",
   "execution_count": 105,
   "metadata": {
    "collapsed": false
   },
   "outputs": [
    {
     "data": {
      "text/html": [
       "<iframe id=\"igraph\" scrolling=\"no\" style=\"border:none;\" seamless=\"seamless\" src=\"https://plot.ly/~suzanneswang/2.embed\" height=\"500px\" width=\"500px\"></iframe>"
      ],
      "text/plain": [
       "<plotly.tools.PlotlyDisplay object>"
      ]
     },
     "execution_count": 105,
     "metadata": {},
     "output_type": "execute_result"
    }
   ],
   "source": [
    "data = [\n",
    "    go.Surface(\n",
    "        z=matrix\n",
    "    ),\n",
    "    optimum\n",
    "]\n",
    "\n",
    "fig = go.Figure(data=data, layout=layout)\n",
    "py.iplot(fig, filename='elevations-3d-surface')"
   ]
  },
  {
   "cell_type": "code",
   "execution_count": null,
   "metadata": {
    "collapsed": true
   },
   "outputs": [],
   "source": []
  }
 ],
 "metadata": {
  "kernelspec": {
   "display_name": "Python 2",
   "language": "python",
   "name": "python2"
  },
  "language_info": {
   "codemirror_mode": {
    "name": "ipython",
    "version": 2
   },
   "file_extension": ".py",
   "mimetype": "text/x-python",
   "name": "python",
   "nbconvert_exporter": "python",
   "pygments_lexer": "ipython2",
   "version": "2.7.10"
  }
 },
 "nbformat": 4,
 "nbformat_minor": 2
}
