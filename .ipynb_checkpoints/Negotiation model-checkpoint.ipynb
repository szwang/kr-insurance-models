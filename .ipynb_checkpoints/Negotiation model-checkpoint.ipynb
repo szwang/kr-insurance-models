{
 "cells": [
  {
   "cell_type": "code",
   "execution_count": 3,
   "metadata": {
    "collapsed": true
   },
   "outputs": [],
   "source": [
    "import numpy as np\n",
    "from scipy import optimize\n",
    "import math"
   ]
  },
  {
   "cell_type": "code",
   "execution_count": 4,
   "metadata": {
    "collapsed": false
   },
   "outputs": [],
   "source": [
    "# utility function\n",
    "def utility(x):\n",
    "    return x + 2*x**(1/2)\n",
    "\n",
    "# ransom, R\n",
    "def ransom(N, N_bar):\n",
    "    return (60-N) + .5*(50-N_bar)\n",
    "\n",
    "# insurance premium, P\n",
    "def premium(p, R):\n",
    "    return p*R\n",
    "\n",
    "# probability of death, q\n",
    "def p_death(N):\n",
    "    return N / 10000"
   ]
  },
  {
   "cell_type": "code",
   "execution_count": 5,
   "metadata": {
    "collapsed": false
   },
   "outputs": [],
   "source": [
    "# expected utility function with p, W, D, K, N, N_bar as exogenous variables\n",
    "def expected_utility(p, W, D, K, N, N_bar):\n",
    "    return (1-p)*utility(W-premium(p, ransom(N, N_bar))) + \\\n",
    "            p*p_death(N)*utility(W-premium(p, ransom(N, N_bar))-D) + \\\n",
    "            p*(1-p_death(N))*utility(W-premium(p, ransom(N, N_bar))-K)"
   ]
  },
  {
   "cell_type": "code",
   "execution_count": 6,
   "metadata": {
    "collapsed": false
   },
   "outputs": [
    {
     "data": {
      "text/plain": [
       "987.75"
      ]
     },
     "execution_count": 6,
     "metadata": {},
     "output_type": "execute_result"
    }
   ],
   "source": [
    "# example function\n",
    "\n",
    "p = .15\n",
    "W = 1000\n",
    "D = 1000\n",
    "K = 100\n",
    "N = 60\n",
    "N_bar = 60\n",
    "\n",
    "expected_utility(p, W, D, K, N, N_bar)"
   ]
  },
  {
   "cell_type": "code",
   "execution_count": 93,
   "metadata": {
    "collapsed": false
   },
   "outputs": [],
   "source": [
    "def f(N):\n",
    "    return expected_utility(.15, 1000, 1000, 100, N, 60)"
   ]
  },
  {
   "cell_type": "code",
   "execution_count": 94,
   "metadata": {
    "collapsed": false
   },
   "outputs": [
    {
     "data": {
      "text/plain": [
       "  fun: -1.4757395258967641e+20\n",
       " nfev: 32\n",
       "  nit: 31\n",
       "    x: -7.1593924520576549e+20"
      ]
     },
     "execution_count": 94,
     "metadata": {},
     "output_type": "execute_result"
    }
   ],
   "source": [
    "result = optimize.minimize_scalar(f)\n",
    "result"
   ]
  },
  {
   "cell_type": "code",
   "execution_count": null,
   "metadata": {
    "collapsed": true
   },
   "outputs": [],
   "source": [
    "# plot graph and make sure it's well-behaved\n",
    "\n",
    "\n",
    "# literature review-- if another student were to pick up trail, write summary of lit review\n",
    "# get data for explanatory stuff"
   ]
  }
 ],
 "metadata": {
  "kernelspec": {
   "display_name": "Python 2",
   "language": "python",
   "name": "python2"
  },
  "language_info": {
   "codemirror_mode": {
    "name": "ipython",
    "version": 2
   },
   "file_extension": ".py",
   "mimetype": "text/x-python",
   "name": "python",
   "nbconvert_exporter": "python",
   "pygments_lexer": "ipython2",
   "version": "2.7.10"
  }
 },
 "nbformat": 4,
 "nbformat_minor": 2
}
